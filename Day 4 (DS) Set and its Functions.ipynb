{
 "cells": [
  {
   "cell_type": "code",
   "execution_count": 2,
   "id": "ebae1b0a",
   "metadata": {},
   "outputs": [
    {
     "name": "stdout",
     "output_type": "stream",
     "text": [
      "{True, 10, 'Samruddhi', 22.5}\n"
     ]
    }
   ],
   "source": [
    "#Create a set\n",
    "s={10, 22.5,'Samruddhi', True}\n",
    "print(s)"
   ]
  },
  {
   "cell_type": "code",
   "execution_count": 3,
   "id": "904ff556",
   "metadata": {},
   "outputs": [
    {
     "data": {
      "text/plain": [
       "{10, 22.5, 'Samruddhi', True}"
      ]
     },
     "execution_count": 3,
     "metadata": {},
     "output_type": "execute_result"
    }
   ],
   "source": [
    "#unordered\n",
    "s"
   ]
  },
  {
   "cell_type": "code",
   "execution_count": 4,
   "id": "2566df0f",
   "metadata": {},
   "outputs": [
    {
     "name": "stdout",
     "output_type": "stream",
     "text": [
      "{True, 10, 'Samruddhi', 22.5}\n"
     ]
    }
   ],
   "source": [
    "#DUPLICATES NOT ALLOWED IN SET\n",
    "S={10, 22.5,'Samruddhi', True}\n",
    "print(S)"
   ]
  },
  {
   "cell_type": "code",
   "execution_count": 5,
   "id": "6b0e7565",
   "metadata": {},
   "outputs": [
    {
     "data": {
      "text/plain": [
       "4"
      ]
     },
     "execution_count": 5,
     "metadata": {},
     "output_type": "execute_result"
    }
   ],
   "source": [
    "len(S)"
   ]
  },
  {
   "cell_type": "code",
   "execution_count": 6,
   "id": "f2e2b30c",
   "metadata": {},
   "outputs": [
    {
     "data": {
      "text/plain": [
       "set"
      ]
     },
     "execution_count": 6,
     "metadata": {},
     "output_type": "execute_result"
    }
   ],
   "source": [
    "type(S)"
   ]
  },
  {
   "cell_type": "code",
   "execution_count": 7,
   "id": "dc449cf6",
   "metadata": {},
   "outputs": [
    {
     "ename": "TypeError",
     "evalue": "'set' object is not subscriptable",
     "output_type": "error",
     "traceback": [
      "\u001b[1;31m---------------------------------------------------------------------------\u001b[0m",
      "\u001b[1;31mTypeError\u001b[0m                                 Traceback (most recent call last)",
      "Cell \u001b[1;32mIn[7], line 4\u001b[0m\n\u001b[0;32m      1\u001b[0m \u001b[38;5;66;03m#UNCHANGABLE\u001b[39;00m\n\u001b[0;32m      2\u001b[0m \u001b[38;5;66;03m#SET ITEMS ARE UNCHANGEABLE, MEANING THAT WE CANNOT\u001b[39;00m\n\u001b[0;32m      3\u001b[0m S\u001b[38;5;241m=\u001b[39m{\u001b[38;5;241m10\u001b[39m, \u001b[38;5;241m22.5\u001b[39m,\u001b[38;5;124m'\u001b[39m\u001b[38;5;124mSamruddhi\u001b[39m\u001b[38;5;124m'\u001b[39m, \u001b[38;5;28;01mTrue\u001b[39;00m}\n\u001b[1;32m----> 4\u001b[0m \u001b[43mS\u001b[49m\u001b[43m[\u001b[49m\u001b[38;5;241;43m0\u001b[39;49m\u001b[43m]\u001b[49m\n",
      "\u001b[1;31mTypeError\u001b[0m: 'set' object is not subscriptable"
     ]
    }
   ],
   "source": [
    "#UNCHANGABLE\n",
    "#SET ITEMS ARE UNCHANGEABLE, MEANING THAT WE CANNOT\n",
    "S={10, 22.5,'Samruddhi', True}\n",
    "S[0]"
   ]
  },
  {
   "cell_type": "code",
   "execution_count": 8,
   "id": "ceb06df5",
   "metadata": {},
   "outputs": [
    {
     "name": "stdout",
     "output_type": "stream",
     "text": [
      "{True, 10, 'Samruddhi', 'Sai', 22.5}\n"
     ]
    }
   ],
   "source": [
    "#ADDITION OF ELEMENT IN SET\n",
    "S={10, 22.5,'Samruddhi', True}\n",
    "S.add('Sai')\n",
    "print(S)"
   ]
  },
  {
   "cell_type": "code",
   "execution_count": 10,
   "id": "a5cdfcbc",
   "metadata": {},
   "outputs": [
    {
     "name": "stdout",
     "output_type": "stream",
     "text": [
      "{True, 22.5, 10, 'Samruddhi'}\n"
     ]
    }
   ],
   "source": [
    "#Removal of element in set\n",
    "S={10, 22.5,'Samruddhi', 'Sai', True}\n",
    "S.remove('Sai')\n",
    "print(S)"
   ]
  },
  {
   "cell_type": "code",
   "execution_count": 11,
   "id": "b7fa1f80",
   "metadata": {},
   "outputs": [
    {
     "name": "stdout",
     "output_type": "stream",
     "text": [
      "{1, 2, 3, 10, 20, 30}\n"
     ]
    }
   ],
   "source": [
    "#Updating multiple elements in set\n",
    "S={10,20,30}\n",
    "S.update([1, 2, 3])\n",
    "print(S)"
   ]
  },
  {
   "cell_type": "code",
   "execution_count": 12,
   "id": "6353fbcf",
   "metadata": {},
   "outputs": [
    {
     "data": {
      "text/plain": [
       "{1, 2, 3, 10, 20, 30}"
      ]
     },
     "execution_count": 12,
     "metadata": {},
     "output_type": "execute_result"
    }
   ],
   "source": [
    "#Union in python set\n",
    "s1={1, 2, 3}\n",
    "s2={10, 20, 30}\n",
    "s1.union(s2)"
   ]
  },
  {
   "cell_type": "code",
   "execution_count": 13,
   "id": "b350a7b2",
   "metadata": {},
   "outputs": [
    {
     "data": {
      "text/plain": [
       "{66}"
      ]
     },
     "execution_count": 13,
     "metadata": {},
     "output_type": "execute_result"
    }
   ],
   "source": [
    "#Intersection in python set\n",
    "s1={1, 2, 3, 66}\n",
    "s2={10, 20, 30, 66}\n",
    "s1.intersection(s2)"
   ]
  },
  {
   "cell_type": "code",
   "execution_count": null,
   "id": "eb53662e",
   "metadata": {},
   "outputs": [],
   "source": []
  }
 ],
 "metadata": {
  "kernelspec": {
   "display_name": "Python 3 (ipykernel)",
   "language": "python",
   "name": "python3"
  },
  "language_info": {
   "codemirror_mode": {
    "name": "ipython",
    "version": 3
   },
   "file_extension": ".py",
   "mimetype": "text/x-python",
   "name": "python",
   "nbconvert_exporter": "python",
   "pygments_lexer": "ipython3",
   "version": "3.10.9"
  }
 },
 "nbformat": 4,
 "nbformat_minor": 5
}

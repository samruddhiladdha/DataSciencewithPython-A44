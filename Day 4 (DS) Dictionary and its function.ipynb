{
 "cells": [
  {
   "cell_type": "markdown",
   "id": "c518b419",
   "metadata": {},
   "source": [
    "# Dictionary\n",
    "#It is an unordered collection of key-value pairs enclosed with{}\n",
    "#Dictionary is mutable"
   ]
  },
  {
   "cell_type": "markdown",
   "id": "fd5cf9d4",
   "metadata": {},
   "source": [
    "Dictionary is a part of Data Structure"
   ]
  },
  {
   "cell_type": "code",
   "execution_count": 8,
   "id": "c7d2f24e",
   "metadata": {},
   "outputs": [
    {
     "data": {
      "text/plain": [
       "{'Samruddhi': 44, 'Shardul': 66, 'Sai': 32, 'Vaidehi': 56}"
      ]
     },
     "execution_count": 8,
     "metadata": {},
     "output_type": "execute_result"
    }
   ],
   "source": [
    "D={'Samruddhi':44, 'Shardul':66, 'Sai':32, 'Vaidehi':56}\n",
    "D"
   ]
  },
  {
   "cell_type": "code",
   "execution_count": 9,
   "id": "bd3b4c98",
   "metadata": {},
   "outputs": [
    {
     "data": {
      "text/plain": [
       "dict"
      ]
     },
     "execution_count": 9,
     "metadata": {},
     "output_type": "execute_result"
    }
   ],
   "source": [
    "type(D)"
   ]
  },
  {
   "cell_type": "code",
   "execution_count": 10,
   "id": "4751b715",
   "metadata": {},
   "outputs": [
    {
     "name": "stdout",
     "output_type": "stream",
     "text": [
      "{'Samruddhi': 44, 'Shardul': 66, 'Sai': 32, 'Vaidehi': 56}\n"
     ]
    }
   ],
   "source": [
    "print(D)"
   ]
  },
  {
   "cell_type": "code",
   "execution_count": 11,
   "id": "f1401574",
   "metadata": {},
   "outputs": [
    {
     "data": {
      "text/plain": [
       "4"
      ]
     },
     "execution_count": 11,
     "metadata": {},
     "output_type": "execute_result"
    }
   ],
   "source": [
    "len(D)"
   ]
  },
  {
   "cell_type": "code",
   "execution_count": 13,
   "id": "17a2941d",
   "metadata": {},
   "outputs": [
    {
     "data": {
      "text/plain": [
       "dict_keys(['Samruddhi', 'Shardul', 'Sai', 'Vaidehi'])"
      ]
     },
     "execution_count": 13,
     "metadata": {},
     "output_type": "execute_result"
    }
   ],
   "source": [
    "#Extracting the keys from dictionary python\n",
    "D={'Samruddhi':44, 'Shardul':66, 'Sai':32, 'Vaidehi':56}\n",
    "D.keys()"
   ]
  },
  {
   "cell_type": "code",
   "execution_count": 14,
   "id": "ffa4a258",
   "metadata": {},
   "outputs": [
    {
     "data": {
      "text/plain": [
       "dict_values([44, 66, 32, 56])"
      ]
     },
     "execution_count": 14,
     "metadata": {},
     "output_type": "execute_result"
    }
   ],
   "source": [
    "#Extracting values from dictionary python\n",
    "D={'Samruddhi':44, 'Shardul':66, 'Sai':32, 'Vaidehi':56}\n",
    "D.values()"
   ]
  },
  {
   "cell_type": "code",
   "execution_count": 15,
   "id": "dec53adb",
   "metadata": {},
   "outputs": [
    {
     "name": "stdout",
     "output_type": "stream",
     "text": [
      "{'Samruddhi': 44, 'Shardul': 66, 'Sai': 32, 'Vaidehi': 56, 'Sumeet': 24}\n"
     ]
    }
   ],
   "source": [
    "#Adding new elements to python dictionary\n",
    "D={'Samruddhi':44, 'Shardul':66, 'Sai':32, 'Vaidehi':56}\n",
    "D['Sumeet']=24\n",
    "print(D)"
   ]
  },
  {
   "cell_type": "code",
   "execution_count": 17,
   "id": "14ca1217",
   "metadata": {},
   "outputs": [
    {
     "name": "stdout",
     "output_type": "stream",
     "text": [
      "{'Samruddhi': 44, 'Shardul': 66, 'Sai': 32, 'Vaidehi': 54}\n"
     ]
    }
   ],
   "source": [
    "#Changing an existing element to python dictionary\n",
    "D={'Samruddhi':44, 'Shardul':66, 'Sai':32, 'Vaidehi':56}\n",
    "D['Vaidehi']=54\n",
    "print(D)"
   ]
  },
  {
   "cell_type": "code",
   "execution_count": 18,
   "id": "2f09d673",
   "metadata": {},
   "outputs": [
    {
     "name": "stdout",
     "output_type": "stream",
     "text": [
      "{'Samruddhi': 44, 'Vaidehi': 54, 'Shardul': 66, 'Sai': 32}\n"
     ]
    }
   ],
   "source": [
    "#Update one dictionary element with another dictionary\n",
    "D1={'Samruddhi':44, 'Vaidehi':54}\n",
    "D2={'Shardul':66, 'Sai':32}\n",
    "D1.update(D2)\n",
    "print(D1)"
   ]
  },
  {
   "cell_type": "code",
   "execution_count": 19,
   "id": "8ee56d3c",
   "metadata": {},
   "outputs": [
    {
     "name": "stdout",
     "output_type": "stream",
     "text": [
      "{'Shardul': 66, 'Sai': 32, 'Vaidehi': 56}\n"
     ]
    }
   ],
   "source": [
    "#Popping element Dictionary in python\n",
    "D={'Samruddhi':44, 'Shardul':66, 'Sai':32, 'Vaidehi':56}\n",
    "D.pop(\"Samruddhi\")\n",
    "print(D)"
   ]
  },
  {
   "cell_type": "code",
   "execution_count": 20,
   "id": "32027811",
   "metadata": {},
   "outputs": [
    {
     "ename": "TypeError",
     "evalue": "pop expected at least 1 argument, got 0",
     "output_type": "error",
     "traceback": [
      "\u001b[1;31m---------------------------------------------------------------------------\u001b[0m",
      "\u001b[1;31mTypeError\u001b[0m                                 Traceback (most recent call last)",
      "Cell \u001b[1;32mIn[20], line 2\u001b[0m\n\u001b[0;32m      1\u001b[0m D\u001b[38;5;241m=\u001b[39m{\u001b[38;5;124m'\u001b[39m\u001b[38;5;124mSamruddhi\u001b[39m\u001b[38;5;124m'\u001b[39m:\u001b[38;5;241m44\u001b[39m, \u001b[38;5;124m'\u001b[39m\u001b[38;5;124mShardul\u001b[39m\u001b[38;5;124m'\u001b[39m:\u001b[38;5;241m66\u001b[39m, \u001b[38;5;124m'\u001b[39m\u001b[38;5;124mSai\u001b[39m\u001b[38;5;124m'\u001b[39m:\u001b[38;5;241m32\u001b[39m, \u001b[38;5;124m'\u001b[39m\u001b[38;5;124mVaidehi\u001b[39m\u001b[38;5;124m'\u001b[39m:\u001b[38;5;241m56\u001b[39m}\n\u001b[1;32m----> 2\u001b[0m \u001b[43mD\u001b[49m\u001b[38;5;241;43m.\u001b[39;49m\u001b[43mpop\u001b[49m\u001b[43m(\u001b[49m\u001b[43m)\u001b[49m\n\u001b[0;32m      3\u001b[0m \u001b[38;5;28mprint\u001b[39m(D)\n",
      "\u001b[1;31mTypeError\u001b[0m: pop expected at least 1 argument, got 0"
     ]
    }
   ],
   "source": [
    "D={'Samruddhi':44, 'Shardul':66, 'Sai':32, 'Vaidehi':56}\n",
    "D.pop()\n",
    "print(D)"
   ]
  }
 ],
 "metadata": {
  "kernelspec": {
   "display_name": "Python 3 (ipykernel)",
   "language": "python",
   "name": "python3"
  },
  "language_info": {
   "codemirror_mode": {
    "name": "ipython",
    "version": 3
   },
   "file_extension": ".py",
   "mimetype": "text/x-python",
   "name": "python",
   "nbconvert_exporter": "python",
   "pygments_lexer": "ipython3",
   "version": "3.10.9"
  }
 },
 "nbformat": 4,
 "nbformat_minor": 5
}

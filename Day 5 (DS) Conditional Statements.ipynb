{
 "cells": [
  {
   "cell_type": "markdown",
   "id": "8e100837",
   "metadata": {},
   "source": [
    "# CONDITIONAL STATEMENTS\n",
    "\n",
    "Types of conditional statements\n",
    "\n",
    "1) IF statement\n",
    "2) if else\n",
    "3) nested if\n",
    "4) ladder if"
   ]
  },
  {
   "cell_type": "code",
   "execution_count": 1,
   "id": "a2ec747e",
   "metadata": {},
   "outputs": [
    {
     "name": "stdout",
     "output_type": "stream",
     "text": [
      "a is greater than b\n"
     ]
    }
   ],
   "source": [
    "a = 5\n",
    "b = 3\n",
    "if(a>b):\n",
    "    print(\"a is greater than b\")"
   ]
  },
  {
   "cell_type": "code",
   "execution_count": 2,
   "id": "15ecd4a5",
   "metadata": {},
   "outputs": [
    {
     "name": "stdout",
     "output_type": "stream",
     "text": [
      "Enter your roll no.\n"
     ]
    }
   ],
   "source": [
    "print(\"Enter your roll no.\")"
   ]
  },
  {
   "cell_type": "code",
   "execution_count": 3,
   "id": "0a451b79",
   "metadata": {},
   "outputs": [
    {
     "name": "stdout",
     "output_type": "stream",
     "text": [
      "Samruddhi4\n",
      "4\n"
     ]
    }
   ],
   "source": [
    "x = input(\"Samruddhi\")\n",
    "print(x)"
   ]
  },
  {
   "cell_type": "code",
   "execution_count": 4,
   "id": "4cfa7998",
   "metadata": {},
   "outputs": [],
   "source": [
    "#if else"
   ]
  },
  {
   "cell_type": "code",
   "execution_count": 5,
   "id": "75684a3c",
   "metadata": {},
   "outputs": [
    {
     "name": "stdout",
     "output_type": "stream",
     "text": [
      "Student will get placed\n"
     ]
    }
   ],
   "source": [
    "percentage = 80\n",
    "if(percentage>60):\n",
    "    print(\"Student will get placed\")\n",
    "else:\n",
    "    print(\"Student will not placed\")"
   ]
  },
  {
   "cell_type": "code",
   "execution_count": 6,
   "id": "b391ac18",
   "metadata": {},
   "outputs": [
    {
     "name": "stdout",
     "output_type": "stream",
     "text": [
      "Enter the value of a\n",
      "None1\n",
      "Enter the value of b\n",
      "None4\n",
      "b is greater than a,b= 4\n"
     ]
    }
   ],
   "source": [
    "a = int(input(print(\"Enter the value of a\")))\n",
    "b = int(input(print(\"Enter the value of b\")))\n",
    "if a>b:\n",
    "    print(\"a is greater then b,a=\",a)\n",
    "else:\n",
    "    print(\"b is greater than a,b=\",b)"
   ]
  }
 ],
 "metadata": {
  "kernelspec": {
   "display_name": "Python 3 (ipykernel)",
   "language": "python",
   "name": "python3"
  },
  "language_info": {
   "codemirror_mode": {
    "name": "ipython",
    "version": 3
   },
   "file_extension": ".py",
   "mimetype": "text/x-python",
   "name": "python",
   "nbconvert_exporter": "python",
   "pygments_lexer": "ipython3",
   "version": "3.10.9"
  }
 },
 "nbformat": 4,
 "nbformat_minor": 5
}

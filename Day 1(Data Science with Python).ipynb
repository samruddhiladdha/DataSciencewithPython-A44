{
 "cells": [
  {
   "cell_type": "code",
   "execution_count": 1,
   "id": "90426855",
   "metadata": {},
   "outputs": [],
   "source": [
    "a = 20 \n",
    "#a=variable\n",
    "#= is assignment operator\n",
    "#20=data"
   ]
  },
  {
   "cell_type": "code",
   "execution_count": 2,
   "id": "30872256",
   "metadata": {},
   "outputs": [
    {
     "data": {
      "text/plain": [
       "20"
      ]
     },
     "execution_count": 2,
     "metadata": {},
     "output_type": "execute_result"
    }
   ],
   "source": [
    "a"
   ]
  },
  {
   "cell_type": "code",
   "execution_count": 3,
   "id": "4099816b",
   "metadata": {},
   "outputs": [
    {
     "name": "stdout",
     "output_type": "stream",
     "text": [
      "20\n"
     ]
    }
   ],
   "source": [
    "print(a)"
   ]
  },
  {
   "cell_type": "code",
   "execution_count": 4,
   "id": "a2f9745c",
   "metadata": {},
   "outputs": [],
   "source": [
    "a = \"Samruddhi Laddha\"\n",
    "a = 'Samruddhi Laddha'\n",
    "a = '''Samruddhi Laddha'''"
   ]
  },
  {
   "cell_type": "code",
   "execution_count": 5,
   "id": "03dbd702",
   "metadata": {},
   "outputs": [
    {
     "data": {
      "text/plain": [
       "'Samruddhi Laddha'"
      ]
     },
     "execution_count": 5,
     "metadata": {},
     "output_type": "execute_result"
    }
   ],
   "source": [
    "a"
   ]
  },
  {
   "cell_type": "code",
   "execution_count": 12,
   "id": "2bfeb31d",
   "metadata": {},
   "outputs": [
    {
     "data": {
      "text/plain": [
       "'SamruddhiLaddha'"
      ]
     },
     "execution_count": 12,
     "metadata": {},
     "output_type": "execute_result"
    }
   ],
   "source": [
    "a = \"Samruddhi\"\n",
    "b = \"Laddha\"\n",
    "c = a+b\n",
    "c"
   ]
  },
  {
   "cell_type": "code",
   "execution_count": 13,
   "id": "b30e6e5d",
   "metadata": {},
   "outputs": [
    {
     "name": "stdout",
     "output_type": "stream",
     "text": [
      "Samruddhi\n",
      "Laddha\n"
     ]
    }
   ],
   "source": [
    "print(\"Samruddhi\\nLaddha\")"
   ]
  },
  {
   "cell_type": "code",
   "execution_count": 15,
   "id": "9fa3d176",
   "metadata": {},
   "outputs": [
    {
     "name": "stdout",
     "output_type": "stream",
     "text": [
      "Samruddhi\tLaddha\n"
     ]
    }
   ],
   "source": [
    "print(\"Samruddhi\\tLaddha\")\n",
    "#\\t is a wide space 1\\t=4 space"
   ]
  },
  {
   "cell_type": "code",
   "execution_count": 17,
   "id": "4ea0e0f8",
   "metadata": {},
   "outputs": [
    {
     "data": {
      "text/plain": [
       "int"
      ]
     },
     "execution_count": 17,
     "metadata": {},
     "output_type": "execute_result"
    }
   ],
   "source": [
    "a = 20\n",
    "type(a)"
   ]
  },
  {
   "cell_type": "code",
   "execution_count": 12,
   "id": "8f911018",
   "metadata": {},
   "outputs": [
    {
     "data": {
      "text/plain": [
       "str"
      ]
     },
     "execution_count": 12,
     "metadata": {},
     "output_type": "execute_result"
    }
   ],
   "source": [
    "a = \"Samruddhi Laddha\"\n",
    "type(a)"
   ]
  },
  {
   "cell_type": "code",
   "execution_count": null,
   "id": "03f5c01a",
   "metadata": {},
   "outputs": [],
   "source": []
  }
 ],
 "metadata": {
  "kernelspec": {
   "display_name": "Python 3 (ipykernel)",
   "language": "python",
   "name": "python3"
  },
  "language_info": {
   "codemirror_mode": {
    "name": "ipython",
    "version": 3
   },
   "file_extension": ".py",
   "mimetype": "text/x-python",
   "name": "python",
   "nbconvert_exporter": "python",
   "pygments_lexer": "ipython3",
   "version": "3.10.9"
  }
 },
 "nbformat": 4,
 "nbformat_minor": 5
}
